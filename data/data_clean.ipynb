{
 "cells": [
  {
   "cell_type": "code",
   "execution_count": 1,
   "id": "4b6bd230",
   "metadata": {},
   "outputs": [],
   "source": [
    "import pandas as pd\n",
    "pois = pd.read_csv(\"raw_poi_data.csv\")"
   ]
  },
  {
   "cell_type": "code",
   "execution_count": 2,
   "id": "a872e335",
   "metadata": {},
   "outputs": [
    {
     "data": {
      "application/vnd.microsoft.datawrangler.viewer.v0+json": {
       "columns": [
        {
         "name": "index",
         "rawType": "object",
         "type": "string"
        },
        {
         "name": "0",
         "rawType": "int64",
         "type": "integer"
        }
       ],
       "ref": "ce76419a-5470-4246-a188-5743f1c70bee",
       "rows": [
        [
         "name",
         "0"
        ],
        [
         "category",
         "0"
        ],
        [
         "lat",
         "0"
        ],
        [
         "lon",
         "0"
        ],
        [
         "LocationID",
         "0"
        ],
        [
         "zone",
         "0"
        ]
       ],
       "shape": {
        "columns": 1,
        "rows": 6
       }
      },
      "text/plain": [
       "name          0\n",
       "category      0\n",
       "lat           0\n",
       "lon           0\n",
       "LocationID    0\n",
       "zone          0\n",
       "dtype: int64"
      ]
     },
     "execution_count": 2,
     "metadata": {},
     "output_type": "execute_result"
    }
   ],
   "source": [
    "pois.isnull().sum()"
   ]
  },
  {
   "cell_type": "code",
   "execution_count": 3,
   "id": "9fce5588",
   "metadata": {},
   "outputs": [],
   "source": [
    "pois = pois.rename(columns={'lat': 'latitude', 'lon': 'longitude', 'zone': 'zone_name', 'name': 'poi_name', 'category': 'poi_type_name', 'LocationID': 'zone_id'})\n",
    "pois.drop('zone_name', axis=1, inplace=True)\n",
    "\n",
    "pois['poi_type_name'] = pois['poi_type_name'].str.lower()\n",
    "pois['poi_name'] = pois['poi_name'].str.lower()\n",
    "# pois = pois.drop_duplicates(subset='poi_name', keep='first')\n",
    "# pois can have same names for different poi types"
   ]
  },
  {
   "cell_type": "code",
   "execution_count": 4,
   "id": "f4dd8c45",
   "metadata": {},
   "outputs": [],
   "source": [
    "import numpy as np\n",
    "poi_type_names = sorted(pois['poi_type_name'].unique())\n",
    "poi_type_ids = (np.arange(len(poi_type_names))+1).tolist()\n",
    "poi_type = pd.DataFrame({'poi_type_id': poi_type_ids, 'poi_type_name': poi_type_names})\n",
    "poi_type.to_csv('poitype_data.csv', index=False)"
   ]
  },
  {
   "cell_type": "code",
   "execution_count": 5,
   "id": "f360f913",
   "metadata": {},
   "outputs": [],
   "source": [
    "pois['poi_type_id'] = pois['poi_type_name'].map(poi_type.set_index('poi_type_name')['poi_type_id'])\n",
    "pois.drop('poi_type_name', axis=1, inplace=True)\n",
    "pois = pois.sort_values(by='poi_name', ascending=True)\n",
    "# pois['poi_id'] = np.arange(1, len(pois)+1)\n",
    "# assign poi_id automatically by database\n",
    "pois.to_csv('poi_data.csv', index=False)"
   ]
  },
  {
   "cell_type": "code",
   "execution_count": 6,
   "id": "54ec34ab",
   "metadata": {},
   "outputs": [],
   "source": [
    "import fiona\n",
    "\n",
    "with fiona.open(\"taxi_zones/taxi_zones.shp\", \"r\") as src:\n",
    "    features = [f for f in src]\n",
    "    zones = pd.DataFrame([f['properties'] for f in features])\n",
    "\n",
    "zones = zones[['LocationID', 'zone']]\n",
    "zones = zones.rename(columns={'LocationID': 'zone_id', 'zone': 'zone_name'})\n",
    "zones['zone_name'] = zones['zone_name'].str.lower()\n",
    "zones = zones.drop_duplicates(subset='zone_name', keep='first')\n",
    "zones.to_csv('zone_data.csv', index=False)"
   ]
  },
  {
   "cell_type": "code",
   "execution_count": 7,
   "id": "d523672b",
   "metadata": {},
   "outputs": [
    {
     "data": {
      "application/vnd.microsoft.datawrangler.viewer.v0+json": {
       "columns": [
        {
         "name": "index",
         "rawType": "int64",
         "type": "integer"
        },
        {
         "name": "zone_id",
         "rawType": "int64",
         "type": "integer"
        },
        {
         "name": "zone_name",
         "rawType": "object",
         "type": "string"
        }
       ],
       "ref": "33ca3600-8af8-4f18-a15d-5257d7c66aa1",
       "rows": [
        [
         "0",
         "1",
         "newark airport"
        ],
        [
         "1",
         "2",
         "jamaica bay"
        ],
        [
         "2",
         "3",
         "allerton/pelham gardens"
        ],
        [
         "3",
         "4",
         "alphabet city"
        ],
        [
         "4",
         "5",
         "arden heights"
        ],
        [
         "5",
         "6",
         "arrochar/fort wadsworth"
        ],
        [
         "6",
         "7",
         "astoria"
        ],
        [
         "7",
         "8",
         "astoria park"
        ],
        [
         "8",
         "9",
         "auburndale"
        ],
        [
         "9",
         "10",
         "baisley park"
        ],
        [
         "10",
         "11",
         "bath beach"
        ],
        [
         "11",
         "12",
         "battery park"
        ],
        [
         "12",
         "13",
         "battery park city"
        ],
        [
         "13",
         "14",
         "bay ridge"
        ],
        [
         "14",
         "15",
         "bay terrace/fort totten"
        ],
        [
         "15",
         "16",
         "bayside"
        ],
        [
         "16",
         "17",
         "bedford"
        ],
        [
         "17",
         "18",
         "bedford park"
        ],
        [
         "18",
         "19",
         "bellerose"
        ],
        [
         "19",
         "20",
         "belmont"
        ],
        [
         "20",
         "21",
         "bensonhurst east"
        ],
        [
         "21",
         "22",
         "bensonhurst west"
        ],
        [
         "22",
         "23",
         "bloomfield/emerson hill"
        ],
        [
         "23",
         "24",
         "bloomingdale"
        ],
        [
         "24",
         "25",
         "boerum hill"
        ],
        [
         "25",
         "26",
         "borough park"
        ],
        [
         "26",
         "27",
         "breezy point/fort tilden/riis beach"
        ],
        [
         "27",
         "28",
         "briarwood/jamaica hills"
        ],
        [
         "28",
         "29",
         "brighton beach"
        ],
        [
         "29",
         "30",
         "broad channel"
        ],
        [
         "30",
         "31",
         "bronx park"
        ],
        [
         "31",
         "32",
         "bronxdale"
        ],
        [
         "32",
         "33",
         "brooklyn heights"
        ],
        [
         "33",
         "34",
         "brooklyn navy yard"
        ],
        [
         "34",
         "35",
         "brownsville"
        ],
        [
         "35",
         "36",
         "bushwick north"
        ],
        [
         "36",
         "37",
         "bushwick south"
        ],
        [
         "37",
         "38",
         "cambria heights"
        ],
        [
         "38",
         "39",
         "canarsie"
        ],
        [
         "39",
         "40",
         "carroll gardens"
        ],
        [
         "40",
         "41",
         "central harlem"
        ],
        [
         "41",
         "42",
         "central harlem north"
        ],
        [
         "42",
         "43",
         "central park"
        ],
        [
         "43",
         "44",
         "charleston/tottenville"
        ],
        [
         "44",
         "45",
         "chinatown"
        ],
        [
         "45",
         "46",
         "city island"
        ],
        [
         "46",
         "47",
         "claremont/bathgate"
        ],
        [
         "47",
         "48",
         "clinton east"
        ],
        [
         "48",
         "49",
         "clinton hill"
        ],
        [
         "49",
         "50",
         "clinton west"
        ]
       ],
       "shape": {
        "columns": 2,
        "rows": 260
       }
      },
      "text/html": [
       "<div>\n",
       "<style scoped>\n",
       "    .dataframe tbody tr th:only-of-type {\n",
       "        vertical-align: middle;\n",
       "    }\n",
       "\n",
       "    .dataframe tbody tr th {\n",
       "        vertical-align: top;\n",
       "    }\n",
       "\n",
       "    .dataframe thead th {\n",
       "        text-align: right;\n",
       "    }\n",
       "</style>\n",
       "<table border=\"1\" class=\"dataframe\">\n",
       "  <thead>\n",
       "    <tr style=\"text-align: right;\">\n",
       "      <th></th>\n",
       "      <th>zone_id</th>\n",
       "      <th>zone_name</th>\n",
       "    </tr>\n",
       "  </thead>\n",
       "  <tbody>\n",
       "    <tr>\n",
       "      <th>0</th>\n",
       "      <td>1</td>\n",
       "      <td>newark airport</td>\n",
       "    </tr>\n",
       "    <tr>\n",
       "      <th>1</th>\n",
       "      <td>2</td>\n",
       "      <td>jamaica bay</td>\n",
       "    </tr>\n",
       "    <tr>\n",
       "      <th>2</th>\n",
       "      <td>3</td>\n",
       "      <td>allerton/pelham gardens</td>\n",
       "    </tr>\n",
       "    <tr>\n",
       "      <th>3</th>\n",
       "      <td>4</td>\n",
       "      <td>alphabet city</td>\n",
       "    </tr>\n",
       "    <tr>\n",
       "      <th>4</th>\n",
       "      <td>5</td>\n",
       "      <td>arden heights</td>\n",
       "    </tr>\n",
       "    <tr>\n",
       "      <th>...</th>\n",
       "      <td>...</td>\n",
       "      <td>...</td>\n",
       "    </tr>\n",
       "    <tr>\n",
       "      <th>258</th>\n",
       "      <td>259</td>\n",
       "      <td>woodlawn/wakefield</td>\n",
       "    </tr>\n",
       "    <tr>\n",
       "      <th>259</th>\n",
       "      <td>260</td>\n",
       "      <td>woodside</td>\n",
       "    </tr>\n",
       "    <tr>\n",
       "      <th>260</th>\n",
       "      <td>261</td>\n",
       "      <td>world trade center</td>\n",
       "    </tr>\n",
       "    <tr>\n",
       "      <th>261</th>\n",
       "      <td>262</td>\n",
       "      <td>yorkville east</td>\n",
       "    </tr>\n",
       "    <tr>\n",
       "      <th>262</th>\n",
       "      <td>263</td>\n",
       "      <td>yorkville west</td>\n",
       "    </tr>\n",
       "  </tbody>\n",
       "</table>\n",
       "<p>260 rows × 2 columns</p>\n",
       "</div>"
      ],
      "text/plain": [
       "     zone_id                zone_name\n",
       "0          1           newark airport\n",
       "1          2              jamaica bay\n",
       "2          3  allerton/pelham gardens\n",
       "3          4            alphabet city\n",
       "4          5            arden heights\n",
       "..       ...                      ...\n",
       "258      259       woodlawn/wakefield\n",
       "259      260                 woodside\n",
       "260      261       world trade center\n",
       "261      262           yorkville east\n",
       "262      263           yorkville west\n",
       "\n",
       "[260 rows x 2 columns]"
      ]
     },
     "execution_count": 7,
     "metadata": {},
     "output_type": "execute_result"
    }
   ],
   "source": [
    "zones"
   ]
  },
  {
   "cell_type": "code",
   "execution_count": 8,
   "id": "b7b5007c",
   "metadata": {},
   "outputs": [
    {
     "name": "stdout",
     "output_type": "stream",
     "text": [
      "[57, 104, 105]\n"
     ]
    }
   ],
   "source": [
    "zones_id = zones['zone_id'].tolist()\n",
    "pro = []\n",
    "for i in range(1, 263):\n",
    "    if (i not in zones_id):\n",
    "        pro.append(i)\n",
    "print(pro)"
   ]
  },
  {
   "cell_type": "code",
   "execution_count": 9,
   "id": "3d8fb57b",
   "metadata": {},
   "outputs": [
    {
     "data": {
      "application/vnd.microsoft.datawrangler.viewer.v0+json": {
       "columns": [
        {
         "name": "index",
         "rawType": "int64",
         "type": "integer"
        },
        {
         "name": "poi_type_id",
         "rawType": "int64",
         "type": "integer"
        },
        {
         "name": "poi_type_name",
         "rawType": "object",
         "type": "string"
        }
       ],
       "ref": "923a6490-7e2c-490e-b85d-afc624acfeed",
       "rows": [
        [
         "0",
         "1",
         "attraction"
        ],
        [
         "1",
         "2",
         "cafe"
        ],
        [
         "2",
         "3",
         "museum"
        ],
        [
         "3",
         "4",
         "park"
        ],
        [
         "4",
         "5",
         "pub"
        ],
        [
         "5",
         "6",
         "restaurant"
        ]
       ],
       "shape": {
        "columns": 2,
        "rows": 6
       }
      },
      "text/html": [
       "<div>\n",
       "<style scoped>\n",
       "    .dataframe tbody tr th:only-of-type {\n",
       "        vertical-align: middle;\n",
       "    }\n",
       "\n",
       "    .dataframe tbody tr th {\n",
       "        vertical-align: top;\n",
       "    }\n",
       "\n",
       "    .dataframe thead th {\n",
       "        text-align: right;\n",
       "    }\n",
       "</style>\n",
       "<table border=\"1\" class=\"dataframe\">\n",
       "  <thead>\n",
       "    <tr style=\"text-align: right;\">\n",
       "      <th></th>\n",
       "      <th>poi_type_id</th>\n",
       "      <th>poi_type_name</th>\n",
       "    </tr>\n",
       "  </thead>\n",
       "  <tbody>\n",
       "    <tr>\n",
       "      <th>0</th>\n",
       "      <td>1</td>\n",
       "      <td>attraction</td>\n",
       "    </tr>\n",
       "    <tr>\n",
       "      <th>1</th>\n",
       "      <td>2</td>\n",
       "      <td>cafe</td>\n",
       "    </tr>\n",
       "    <tr>\n",
       "      <th>2</th>\n",
       "      <td>3</td>\n",
       "      <td>museum</td>\n",
       "    </tr>\n",
       "    <tr>\n",
       "      <th>3</th>\n",
       "      <td>4</td>\n",
       "      <td>park</td>\n",
       "    </tr>\n",
       "    <tr>\n",
       "      <th>4</th>\n",
       "      <td>5</td>\n",
       "      <td>pub</td>\n",
       "    </tr>\n",
       "    <tr>\n",
       "      <th>5</th>\n",
       "      <td>6</td>\n",
       "      <td>restaurant</td>\n",
       "    </tr>\n",
       "  </tbody>\n",
       "</table>\n",
       "</div>"
      ],
      "text/plain": [
       "   poi_type_id poi_type_name\n",
       "0            1    attraction\n",
       "1            2          cafe\n",
       "2            3        museum\n",
       "3            4          park\n",
       "4            5           pub\n",
       "5            6    restaurant"
      ]
     },
     "execution_count": 9,
     "metadata": {},
     "output_type": "execute_result"
    }
   ],
   "source": [
    "poi_type"
   ]
  },
  {
   "cell_type": "code",
   "execution_count": 10,
   "id": "078fd7fe",
   "metadata": {},
   "outputs": [
    {
     "data": {
      "application/vnd.microsoft.datawrangler.viewer.v0+json": {
       "columns": [
        {
         "name": "index",
         "rawType": "int64",
         "type": "integer"
        },
        {
         "name": "poi_name",
         "rawType": "object",
         "type": "string"
        },
        {
         "name": "latitude",
         "rawType": "float64",
         "type": "float"
        },
        {
         "name": "longitude",
         "rawType": "float64",
         "type": "float"
        },
        {
         "name": "zone_id",
         "rawType": "float64",
         "type": "float"
        },
        {
         "name": "poi_type_id",
         "rawType": "int64",
         "type": "integer"
        }
       ],
       "ref": "13c2d26d-2e73-4945-8d56-87eba7d15291",
       "rows": [
        [
         "11342",
         "\"u\" like chinese take out",
         "40.867494224968",
         "-73.921726346618",
         "127.0",
         "6"
        ],
        [
         "33995",
         "\"uncle\" vito f. maranzano glendale playground",
         "40.70493208538965",
         "-73.8817567404357",
         "102.0",
         "4"
        ],
        [
         "19349",
         "\"w\" cafe",
         "40.749800394372",
         "-73.984079971299",
         "164.0",
         "6"
        ],
        [
         "10803",
         "#1 garden chinese restaurant",
         "40.660155649478",
         "-73.980554819961",
         "257.0",
         "6"
        ],
        [
         "1008",
         "#1 natural juice bar",
         "40.70306119999999",
         "-73.9078624",
         "198.0",
         "2"
        ],
        [
         "15084",
         "#1 sabor latino restaurant",
         "40.891175783734",
         "-73.8585911415",
         "254.0",
         "6"
        ],
        [
         "17089",
         "$1 pizza",
         "40.746510107881",
         "-73.990158293876",
         "164.0",
         "6"
        ],
        [
         "16437",
         "$1 pizza",
         "40.731408835598",
         "-74.001176261932",
         "249.0",
         "6"
        ],
        [
         "22212",
         "$1 slice pizza",
         "40.881253484956",
         "-73.882899618689",
         "174.0",
         "6"
        ],
        [
         "13019",
         "$1.50  utica hot pizza",
         "40.668774135352",
         "-73.930655146279",
         "61.0",
         "6"
        ],
        [
         "7426",
         "$1.50 fordham heights pizza",
         "40.856186138467",
         "-73.90067531937",
         "94.0",
         "6"
        ],
        [
         "4682",
         "$1.50 fresh pizza & hot dog",
         "40.72681284306",
         "-73.982992285603",
         "79.0",
         "6"
        ],
        [
         "27449",
         "$1.50 hot pizza",
         "40.67928302117",
         "-73.92923809585",
         "61.0",
         "6"
        ],
        [
         "26599",
         "$1.50 pizza slice",
         "40.76371413372",
         "-73.988765921819",
         "48.0",
         "6"
        ],
        [
         "1708",
         "% arabica",
         "40.70258990000001",
         "-73.9941507",
         "33.0",
         "2"
        ],
        [
         "5346",
         "& more by sheraton",
         "40.759839333092",
         "-73.831798170383",
         "92.0",
         "6"
        ],
        [
         "6691",
         "& pizza",
         "40.705835523582",
         "-74.008515597925",
         "87.0",
         "6"
        ],
        [
         "19641",
         "& pizza",
         "40.74514305044",
         "-73.988382911821",
         "164.0",
         "6"
        ],
        [
         "10132",
         "& son steakeasy",
         "40.733953229906",
         "-73.998585544932",
         "113.0",
         "6"
        ],
        [
         "28757",
         "& sons ham bar",
         "40.66160264974",
         "-73.953629713001",
         "188.0",
         "6"
        ],
        [
         "17512",
         "(lewis drug store) locanda vini e olii",
         "40.684796653234",
         "-73.962926874641",
         "49.0",
         "6"
        ],
        [
         "31128",
         "002rjrh, corp.",
         "40.752262863231",
         "-73.98745407546",
         "100.0",
         "6"
        ],
        [
         "30141",
         "003rjrh corp",
         "40.739944266445",
         "-73.986521768957",
         "107.0",
         "6"
        ],
        [
         "5640",
         "08/2024",
         "40.747195864681",
         "-73.923416505935",
         "226.0",
         "6"
        ],
        [
         "23324",
         "1 banana queen",
         "40.844243962994",
         "-73.914536031114",
         "247.0",
         "6"
        ],
        [
         "29013",
         "1 east 66th street kitchen",
         "40.768546914232",
         "-73.969580578452",
         "237.0",
         "6"
        ],
        [
         "27344",
         "1 golden pancake",
         "40.758862483838",
         "-73.830129371732",
         "92.0",
         "6"
        ],
        [
         "13914",
         "1 hotel brooklyn bridge",
         "40.700881454655",
         "-73.995892188698",
         "33.0",
         "6"
        ],
        [
         "25195",
         "1 hotel employee dining kitchen #36",
         "40.70157861295",
         "-73.995527884559",
         "33.0",
         "6"
        ],
        [
         "18252",
         "1 quetzal",
         "40.618049600245",
         "-73.999315617304",
         "22.0",
         "6"
        ],
        [
         "22876",
         "1 stop patty shop",
         "40.824869602416",
         "-73.947878825434",
         "116.0",
         "6"
        ],
        [
         "24228",
         "1 waffle n sip",
         "40.760845461367",
         "-73.765422670139",
         "16.0",
         "6"
        ],
        [
         "20929",
         "1.5 dak galbi",
         "40.763448408622",
         "-73.807183836343",
         "171.0",
         "6"
        ],
        [
         "30152",
         "1.50 hot pizza",
         "40.650189033062",
         "-73.958650501578",
         "85.0",
         "6"
        ],
        [
         "10394",
         "1.50 hot pizza",
         "40.815649022675",
         "-73.917983331884",
         "168.0",
         "6"
        ],
        [
         "9725",
         "1.50 pizza",
         "40.759523147973",
         "-73.991842090937",
         "48.0",
         "6"
        ],
        [
         "8194",
         "10 02 lounge and restaurant",
         "40.843666351876",
         "-73.887617618406",
         "78.0",
         "6"
        ],
        [
         "729",
         "10 below ice cream",
         "40.7137511",
         "-73.9985135",
         "45.0",
         "2"
        ],
        [
         "20185",
         "100 market place",
         "40.703504942078",
         "-74.011606197564",
         "88.0",
         "6"
        ],
        [
         "33441",
         "100 quincy street community garden",
         "40.68596687095201",
         "-73.95723636599631",
         "49.0",
         "4"
        ],
        [
         "30893",
         "100% mr lin",
         "40.690826232689",
         "-73.98345224546",
         "65.0",
         "6"
        ],
        [
         "33040",
         "100% playground",
         "40.64643895342101",
         "-73.89913359297151",
         "39.0",
         "4"
        ],
        [
         "2301",
         "10000 coffee",
         "40.7538462",
         "-73.9724468",
         "162.0",
         "2"
        ],
        [
         "19974",
         "1001 nights cafe",
         "40.598281573201",
         "-74.162521484316",
         "23.0",
         "6"
        ],
        [
         "10677",
         "101 apizza",
         "40.692154455003",
         "-73.818187291542",
         "197.0",
         "6"
        ],
        [
         "19994",
         "101 cafe",
         "40.685063207207",
         "-73.843201099888",
         "258.0",
         "6"
        ],
        [
         "19872",
         "101 deli",
         "40.583655530006",
         "-73.821536740421",
         "201.0",
         "6"
        ],
        [
         "32358",
         "101 ktv bar lounge",
         "40.762895056714",
         "-73.832346345915",
         "92.0",
         "6"
        ],
        [
         "14320",
         "101 wilson bar",
         "40.701497896968",
         "-73.927119024631",
         "36.0",
         "6"
        ],
        [
         "28412",
         "1012 kitchen",
         "40.624608586151",
         "-73.961296140502",
         "165.0",
         "6"
        ]
       ],
       "shape": {
        "columns": 5,
        "rows": 34689
       }
      },
      "text/html": [
       "<div>\n",
       "<style scoped>\n",
       "    .dataframe tbody tr th:only-of-type {\n",
       "        vertical-align: middle;\n",
       "    }\n",
       "\n",
       "    .dataframe tbody tr th {\n",
       "        vertical-align: top;\n",
       "    }\n",
       "\n",
       "    .dataframe thead th {\n",
       "        text-align: right;\n",
       "    }\n",
       "</style>\n",
       "<table border=\"1\" class=\"dataframe\">\n",
       "  <thead>\n",
       "    <tr style=\"text-align: right;\">\n",
       "      <th></th>\n",
       "      <th>poi_name</th>\n",
       "      <th>latitude</th>\n",
       "      <th>longitude</th>\n",
       "      <th>zone_id</th>\n",
       "      <th>poi_type_id</th>\n",
       "    </tr>\n",
       "  </thead>\n",
       "  <tbody>\n",
       "    <tr>\n",
       "      <th>11342</th>\n",
       "      <td>\"u\" like chinese take out</td>\n",
       "      <td>40.867494</td>\n",
       "      <td>-73.921726</td>\n",
       "      <td>127.0</td>\n",
       "      <td>6</td>\n",
       "    </tr>\n",
       "    <tr>\n",
       "      <th>33995</th>\n",
       "      <td>\"uncle\" vito f. maranzano glendale playground</td>\n",
       "      <td>40.704932</td>\n",
       "      <td>-73.881757</td>\n",
       "      <td>102.0</td>\n",
       "      <td>4</td>\n",
       "    </tr>\n",
       "    <tr>\n",
       "      <th>19349</th>\n",
       "      <td>\"w\" cafe</td>\n",
       "      <td>40.749800</td>\n",
       "      <td>-73.984080</td>\n",
       "      <td>164.0</td>\n",
       "      <td>6</td>\n",
       "    </tr>\n",
       "    <tr>\n",
       "      <th>10803</th>\n",
       "      <td>#1 garden chinese restaurant</td>\n",
       "      <td>40.660156</td>\n",
       "      <td>-73.980555</td>\n",
       "      <td>257.0</td>\n",
       "      <td>6</td>\n",
       "    </tr>\n",
       "    <tr>\n",
       "      <th>1008</th>\n",
       "      <td>#1 natural juice bar</td>\n",
       "      <td>40.703061</td>\n",
       "      <td>-73.907862</td>\n",
       "      <td>198.0</td>\n",
       "      <td>2</td>\n",
       "    </tr>\n",
       "    <tr>\n",
       "      <th>...</th>\n",
       "      <td>...</td>\n",
       "      <td>...</td>\n",
       "      <td>...</td>\n",
       "      <td>...</td>\n",
       "      <td>...</td>\n",
       "    </tr>\n",
       "    <tr>\n",
       "      <th>18232</th>\n",
       "      <td>zz's pizza &amp; grill</td>\n",
       "      <td>40.643726</td>\n",
       "      <td>-74.072789</td>\n",
       "      <td>206.0</td>\n",
       "      <td>6</td>\n",
       "    </tr>\n",
       "    <tr>\n",
       "      <th>2002</th>\n",
       "      <td>züri coffee</td>\n",
       "      <td>40.783593</td>\n",
       "      <td>-73.979832</td>\n",
       "      <td>239.0</td>\n",
       "      <td>2</td>\n",
       "    </tr>\n",
       "    <tr>\n",
       "      <th>507</th>\n",
       "      <td>épicerie boulud</td>\n",
       "      <td>40.711288</td>\n",
       "      <td>-74.010275</td>\n",
       "      <td>261.0</td>\n",
       "      <td>2</td>\n",
       "    </tr>\n",
       "    <tr>\n",
       "      <th>1845</th>\n",
       "      <td>épicerie boulud</td>\n",
       "      <td>40.711774</td>\n",
       "      <td>-74.011669</td>\n",
       "      <td>261.0</td>\n",
       "      <td>2</td>\n",
       "    </tr>\n",
       "    <tr>\n",
       "      <th>1980</th>\n",
       "      <td>ănjelly</td>\n",
       "      <td>40.727312</td>\n",
       "      <td>-73.984253</td>\n",
       "      <td>79.0</td>\n",
       "      <td>2</td>\n",
       "    </tr>\n",
       "  </tbody>\n",
       "</table>\n",
       "<p>34689 rows × 5 columns</p>\n",
       "</div>"
      ],
      "text/plain": [
       "                                            poi_name   latitude  longitude  \\\n",
       "11342                      \"u\" like chinese take out  40.867494 -73.921726   \n",
       "33995  \"uncle\" vito f. maranzano glendale playground  40.704932 -73.881757   \n",
       "19349                                       \"w\" cafe  40.749800 -73.984080   \n",
       "10803                   #1 garden chinese restaurant  40.660156 -73.980555   \n",
       "1008                            #1 natural juice bar  40.703061 -73.907862   \n",
       "...                                              ...        ...        ...   \n",
       "18232                             zz's pizza & grill  40.643726 -74.072789   \n",
       "2002                                     züri coffee  40.783593 -73.979832   \n",
       "507                                  épicerie boulud  40.711288 -74.010275   \n",
       "1845                                 épicerie boulud  40.711774 -74.011669   \n",
       "1980                                         ănjelly  40.727312 -73.984253   \n",
       "\n",
       "       zone_id  poi_type_id  \n",
       "11342    127.0            6  \n",
       "33995    102.0            4  \n",
       "19349    164.0            6  \n",
       "10803    257.0            6  \n",
       "1008     198.0            2  \n",
       "...        ...          ...  \n",
       "18232    206.0            6  \n",
       "2002     239.0            2  \n",
       "507      261.0            2  \n",
       "1845     261.0            2  \n",
       "1980      79.0            2  \n",
       "\n",
       "[34689 rows x 5 columns]"
      ]
     },
     "execution_count": 10,
     "metadata": {},
     "output_type": "execute_result"
    }
   ],
   "source": [
    "pois"
   ]
  },
  {
   "cell_type": "code",
   "execution_count": 3,
   "id": "dc5fbde7",
   "metadata": {},
   "outputs": [],
   "source": [
    "# include poi data with user_rating\n",
    "import pandas as pd\n",
    "pois = pd.read_csv(\"poi_data_ryan.csv\")\n",
    "pois.drop('num_of_reviews', axis=1, inplace=True)\n",
    "pois.drop('price_level', axis=1, inplace=True)\n",
    "pois.drop('gmap_id', axis=1, inplace=True)\n",
    "pois.drop('source', axis=1, inplace=True)\n",
    "pois.rename(columns={'avg_rating':'user_rating'}, inplace=True)\n",
    "pois['picture_url'] = None\n",
    "pois.to_csv(\"poi_data.csv\", index=False)"
   ]
  },
  {
   "cell_type": "code",
   "execution_count": 4,
   "id": "6114fb55",
   "metadata": {},
   "outputs": [
    {
     "data": {
      "application/vnd.microsoft.datawrangler.viewer.v0+json": {
       "columns": [
        {
         "name": "index",
         "rawType": "int64",
         "type": "integer"
        },
        {
         "name": "poi_name",
         "rawType": "object",
         "type": "string"
        },
        {
         "name": "latitude",
         "rawType": "float64",
         "type": "float"
        },
        {
         "name": "longitude",
         "rawType": "float64",
         "type": "float"
        },
        {
         "name": "zone_id",
         "rawType": "float64",
         "type": "float"
        },
        {
         "name": "poi_type_id",
         "rawType": "int64",
         "type": "integer"
        },
        {
         "name": "user_rating",
         "rawType": "float64",
         "type": "float"
        },
        {
         "name": "picture_url",
         "rawType": "object",
         "type": "unknown"
        }
       ],
       "ref": "712db5c9-89fc-41a6-96f4-5c53c349cf57",
       "rows": [
        [
         "0",
         "\"u\" like chinese take out",
         "40.867494224968",
         "-73.921726346618",
         "127.0",
         "6",
         null,
         null
        ],
        [
         "1",
         "\"Uncle\" Vito F. Maranzano Glendale Playground",
         "40.70493208538965",
         "-73.8817567404357",
         "102.0",
         "4",
         "4.0",
         null
        ],
        [
         "2",
         "\"w\" cafe",
         "40.749800394372",
         "-73.984079971299",
         "164.0",
         "6",
         null,
         null
        ],
        [
         "3",
         "#1 garden chinese restaurant",
         "40.660155649478",
         "-73.980554819961",
         "257.0",
         "6",
         null,
         null
        ],
        [
         "4",
         "#1 natural juice bar",
         "40.70306119999999",
         "-73.9078624",
         "198.0",
         "2",
         null,
         null
        ],
        [
         "5",
         "#1 Sabor Latino Restaurant",
         "40.891175783734",
         "-73.8585911415",
         "254.0",
         "6",
         "3.9",
         null
        ],
        [
         "6",
         "$1 pizza",
         "40.746510107881",
         "-73.990158293876",
         "164.0",
         "6",
         "4.3",
         null
        ],
        [
         "7",
         "$1 pizza",
         "40.731408835598",
         "-74.001176261932",
         "249.0",
         "6",
         null,
         null
        ],
        [
         "8",
         "$1 slice pizza",
         "40.881253484956",
         "-73.882899618689",
         "174.0",
         "6",
         null,
         null
        ],
        [
         "9",
         "$1.50  utica hot pizza",
         "40.668774135352",
         "-73.930655146279",
         "61.0",
         "6",
         null,
         null
        ],
        [
         "10",
         "$1.50 fordham heights pizza",
         "40.856186138467",
         "-73.90067531937",
         "94.0",
         "6",
         null,
         null
        ],
        [
         "11",
         "$1.50 fresh pizza & hot dog",
         "40.72681284306",
         "-73.982992285603",
         "79.0",
         "6",
         null,
         null
        ],
        [
         "12",
         "$1.50 hot pizza",
         "40.67928302117",
         "-73.92923809585",
         "61.0",
         "6",
         null,
         null
        ],
        [
         "13",
         "$1.50 pizza slice",
         "40.76371413372",
         "-73.988765921819",
         "48.0",
         "6",
         null,
         null
        ],
        [
         "14",
         "% Arabica",
         "40.70258990000001",
         "-73.9941507",
         "33.0",
         "2",
         "4.4",
         null
        ],
        [
         "15",
         "& more by sheraton",
         "40.759839333092",
         "-73.831798170383",
         "92.0",
         "6",
         null,
         null
        ],
        [
         "16",
         "& pizza",
         "40.705835523582",
         "-74.008515597925",
         "87.0",
         "6",
         "4.7",
         null
        ],
        [
         "17",
         "& pizza",
         "40.74514305044",
         "-73.988382911821",
         "164.0",
         "6",
         null,
         null
        ],
        [
         "18",
         "& Son Steakeasy",
         "40.733953229906",
         "-73.998585544932",
         "113.0",
         "6",
         "4.1",
         null
        ],
        [
         "19",
         "& sons ham bar",
         "40.66160264974",
         "-73.953629713001",
         "188.0",
         "6",
         null,
         null
        ],
        [
         "20",
         "Locanda Vini & Olii",
         "40.684796653234",
         "-73.962926874641",
         "49.0",
         "6",
         "4.5",
         null
        ],
        [
         "21",
         "002rjrh, corp.",
         "40.752262863231",
         "-73.98745407546",
         "100.0",
         "6",
         null,
         null
        ],
        [
         "22",
         "003rjrh corp",
         "40.739944266445",
         "-73.986521768957",
         "107.0",
         "6",
         null,
         null
        ],
        [
         "23",
         "08/2024",
         "40.747195864681",
         "-73.923416505935",
         "226.0",
         "6",
         null,
         null
        ],
        [
         "24",
         "1 banana queen",
         "40.844243962994",
         "-73.914536031114",
         "247.0",
         "6",
         "2.7",
         null
        ],
        [
         "25",
         "1 east 66th street kitchen",
         "40.768546914232",
         "-73.969580578452",
         "237.0",
         "6",
         null,
         null
        ],
        [
         "26",
         "1 golden pancake",
         "40.758862483838",
         "-73.830129371732",
         "92.0",
         "6",
         null,
         null
        ],
        [
         "27",
         "1 hotel brooklyn bridge",
         "40.700881454655",
         "-73.995892188698",
         "33.0",
         "6",
         null,
         null
        ],
        [
         "28",
         "1 hotel employee dining kitchen #36",
         "40.70157861295",
         "-73.995527884559",
         "33.0",
         "6",
         null,
         null
        ],
        [
         "29",
         "1 Quetzal bar",
         "40.618049600245",
         "-73.999315617304",
         "22.0",
         "6",
         "2.8",
         null
        ],
        [
         "30",
         "One Stop Patty Shop",
         "40.824869602416",
         "-73.947878825434",
         "116.0",
         "6",
         "4.5",
         null
        ],
        [
         "31",
         "1 waffle n sip",
         "40.760845461367",
         "-73.765422670139",
         "16.0",
         "6",
         null,
         null
        ],
        [
         "32",
         "1.5 dak galbi",
         "40.763448408622",
         "-73.807183836343",
         "171.0",
         "6",
         "4.2",
         null
        ],
        [
         "33",
         "1.50 hot pizza",
         "40.650189033062",
         "-73.958650501578",
         "85.0",
         "6",
         null,
         null
        ],
        [
         "34",
         "1.50 hot pizza",
         "40.815649022675",
         "-73.917983331884",
         "168.0",
         "6",
         null,
         null
        ],
        [
         "35",
         "1.50 pizza",
         "40.759523147973",
         "-73.991842090937",
         "48.0",
         "6",
         null,
         null
        ],
        [
         "36",
         "10 02 lounge and restaurant",
         "40.843666351876",
         "-73.887617618406",
         "78.0",
         "6",
         "4.1",
         null
        ],
        [
         "37",
         "10 below ice cream",
         "40.7137511",
         "-73.9985135",
         "45.0",
         "2",
         null,
         null
        ],
        [
         "38",
         "100 market place",
         "40.703504942078",
         "-74.011606197564",
         "88.0",
         "6",
         null,
         null
        ],
        [
         "39",
         "100 quincy street community garden",
         "40.68596687095201",
         "-73.95723636599631",
         "49.0",
         "4",
         null,
         null
        ],
        [
         "40",
         "100% mr lin",
         "40.690826232689",
         "-73.98345224546",
         "65.0",
         "6",
         null,
         null
        ],
        [
         "41",
         "100% Playground",
         "40.64643895342101",
         "-73.89913359297151",
         "39.0",
         "4",
         "4.2",
         null
        ],
        [
         "42",
         "10000 coffee",
         "40.7538462",
         "-73.9724468",
         "162.0",
         "2",
         null,
         null
        ],
        [
         "43",
         "1001 Nights Cafe’ & Dessert",
         "40.598281573201",
         "-74.162521484316",
         "23.0",
         "6",
         "4.1",
         null
        ],
        [
         "44",
         "101 Apizza",
         "40.692154455003",
         "-73.818187291542",
         "197.0",
         "6",
         "4.2",
         null
        ],
        [
         "45",
         "101 cafe",
         "40.685063207207",
         "-73.843201099888",
         "258.0",
         "6",
         null,
         null
        ],
        [
         "46",
         "101 Deli",
         "40.583655530006",
         "-73.821536740421",
         "201.0",
         "6",
         "4.1",
         null
        ],
        [
         "47",
         "101 KTV Bar Lounge",
         "40.762895056714",
         "-73.832346345915",
         "92.0",
         "6",
         "4.6",
         null
        ],
        [
         "48",
         "101 Wilson Bar",
         "40.701497896968",
         "-73.927119024631",
         "36.0",
         "6",
         "4.4",
         null
        ],
        [
         "49",
         "1012 kitchen",
         "40.624608586151",
         "-73.961296140502",
         "165.0",
         "6",
         null,
         null
        ]
       ],
       "shape": {
        "columns": 7,
        "rows": 34689
       }
      },
      "text/html": [
       "<div>\n",
       "<style scoped>\n",
       "    .dataframe tbody tr th:only-of-type {\n",
       "        vertical-align: middle;\n",
       "    }\n",
       "\n",
       "    .dataframe tbody tr th {\n",
       "        vertical-align: top;\n",
       "    }\n",
       "\n",
       "    .dataframe thead th {\n",
       "        text-align: right;\n",
       "    }\n",
       "</style>\n",
       "<table border=\"1\" class=\"dataframe\">\n",
       "  <thead>\n",
       "    <tr style=\"text-align: right;\">\n",
       "      <th></th>\n",
       "      <th>poi_name</th>\n",
       "      <th>latitude</th>\n",
       "      <th>longitude</th>\n",
       "      <th>zone_id</th>\n",
       "      <th>poi_type_id</th>\n",
       "      <th>user_rating</th>\n",
       "      <th>picture_url</th>\n",
       "    </tr>\n",
       "  </thead>\n",
       "  <tbody>\n",
       "    <tr>\n",
       "      <th>0</th>\n",
       "      <td>\"u\" like chinese take out</td>\n",
       "      <td>40.867494</td>\n",
       "      <td>-73.921726</td>\n",
       "      <td>127.0</td>\n",
       "      <td>6</td>\n",
       "      <td>NaN</td>\n",
       "      <td>None</td>\n",
       "    </tr>\n",
       "    <tr>\n",
       "      <th>1</th>\n",
       "      <td>\"Uncle\" Vito F. Maranzano Glendale Playground</td>\n",
       "      <td>40.704932</td>\n",
       "      <td>-73.881757</td>\n",
       "      <td>102.0</td>\n",
       "      <td>4</td>\n",
       "      <td>4.0</td>\n",
       "      <td>None</td>\n",
       "    </tr>\n",
       "    <tr>\n",
       "      <th>2</th>\n",
       "      <td>\"w\" cafe</td>\n",
       "      <td>40.749800</td>\n",
       "      <td>-73.984080</td>\n",
       "      <td>164.0</td>\n",
       "      <td>6</td>\n",
       "      <td>NaN</td>\n",
       "      <td>None</td>\n",
       "    </tr>\n",
       "    <tr>\n",
       "      <th>3</th>\n",
       "      <td>#1 garden chinese restaurant</td>\n",
       "      <td>40.660156</td>\n",
       "      <td>-73.980555</td>\n",
       "      <td>257.0</td>\n",
       "      <td>6</td>\n",
       "      <td>NaN</td>\n",
       "      <td>None</td>\n",
       "    </tr>\n",
       "    <tr>\n",
       "      <th>4</th>\n",
       "      <td>#1 natural juice bar</td>\n",
       "      <td>40.703061</td>\n",
       "      <td>-73.907862</td>\n",
       "      <td>198.0</td>\n",
       "      <td>2</td>\n",
       "      <td>NaN</td>\n",
       "      <td>None</td>\n",
       "    </tr>\n",
       "    <tr>\n",
       "      <th>...</th>\n",
       "      <td>...</td>\n",
       "      <td>...</td>\n",
       "      <td>...</td>\n",
       "      <td>...</td>\n",
       "      <td>...</td>\n",
       "      <td>...</td>\n",
       "      <td>...</td>\n",
       "    </tr>\n",
       "    <tr>\n",
       "      <th>34684</th>\n",
       "      <td>zz's pizza &amp; grill</td>\n",
       "      <td>40.643726</td>\n",
       "      <td>-74.072789</td>\n",
       "      <td>206.0</td>\n",
       "      <td>6</td>\n",
       "      <td>NaN</td>\n",
       "      <td>None</td>\n",
       "    </tr>\n",
       "    <tr>\n",
       "      <th>34685</th>\n",
       "      <td>züri coffee</td>\n",
       "      <td>40.783593</td>\n",
       "      <td>-73.979832</td>\n",
       "      <td>239.0</td>\n",
       "      <td>2</td>\n",
       "      <td>NaN</td>\n",
       "      <td>None</td>\n",
       "    </tr>\n",
       "    <tr>\n",
       "      <th>34686</th>\n",
       "      <td>épicerie boulud</td>\n",
       "      <td>40.711288</td>\n",
       "      <td>-74.010275</td>\n",
       "      <td>261.0</td>\n",
       "      <td>2</td>\n",
       "      <td>NaN</td>\n",
       "      <td>None</td>\n",
       "    </tr>\n",
       "    <tr>\n",
       "      <th>34687</th>\n",
       "      <td>épicerie boulud</td>\n",
       "      <td>40.711774</td>\n",
       "      <td>-74.011669</td>\n",
       "      <td>261.0</td>\n",
       "      <td>2</td>\n",
       "      <td>NaN</td>\n",
       "      <td>None</td>\n",
       "    </tr>\n",
       "    <tr>\n",
       "      <th>34688</th>\n",
       "      <td>ănjelly</td>\n",
       "      <td>40.727312</td>\n",
       "      <td>-73.984253</td>\n",
       "      <td>79.0</td>\n",
       "      <td>2</td>\n",
       "      <td>NaN</td>\n",
       "      <td>None</td>\n",
       "    </tr>\n",
       "  </tbody>\n",
       "</table>\n",
       "<p>34689 rows × 7 columns</p>\n",
       "</div>"
      ],
      "text/plain": [
       "                                            poi_name   latitude  longitude  \\\n",
       "0                          \"u\" like chinese take out  40.867494 -73.921726   \n",
       "1      \"Uncle\" Vito F. Maranzano Glendale Playground  40.704932 -73.881757   \n",
       "2                                           \"w\" cafe  40.749800 -73.984080   \n",
       "3                       #1 garden chinese restaurant  40.660156 -73.980555   \n",
       "4                               #1 natural juice bar  40.703061 -73.907862   \n",
       "...                                              ...        ...        ...   \n",
       "34684                             zz's pizza & grill  40.643726 -74.072789   \n",
       "34685                                    züri coffee  40.783593 -73.979832   \n",
       "34686                                épicerie boulud  40.711288 -74.010275   \n",
       "34687                                épicerie boulud  40.711774 -74.011669   \n",
       "34688                                        ănjelly  40.727312 -73.984253   \n",
       "\n",
       "       zone_id  poi_type_id  user_rating picture_url  \n",
       "0        127.0            6          NaN        None  \n",
       "1        102.0            4          4.0        None  \n",
       "2        164.0            6          NaN        None  \n",
       "3        257.0            6          NaN        None  \n",
       "4        198.0            2          NaN        None  \n",
       "...        ...          ...          ...         ...  \n",
       "34684    206.0            6          NaN        None  \n",
       "34685    239.0            2          NaN        None  \n",
       "34686    261.0            2          NaN        None  \n",
       "34687    261.0            2          NaN        None  \n",
       "34688     79.0            2          NaN        None  \n",
       "\n",
       "[34689 rows x 7 columns]"
      ]
     },
     "execution_count": 4,
     "metadata": {},
     "output_type": "execute_result"
    }
   ],
   "source": [
    "pois"
   ]
  }
 ],
 "metadata": {
  "kernelspec": {
   "display_name": "base",
   "language": "python",
   "name": "python3"
  },
  "language_info": {
   "codemirror_mode": {
    "name": "ipython",
    "version": 3
   },
   "file_extension": ".py",
   "mimetype": "text/x-python",
   "name": "python",
   "nbconvert_exporter": "python",
   "pygments_lexer": "ipython3",
   "version": "3.11.5"
  }
 },
 "nbformat": 4,
 "nbformat_minor": 5
}
